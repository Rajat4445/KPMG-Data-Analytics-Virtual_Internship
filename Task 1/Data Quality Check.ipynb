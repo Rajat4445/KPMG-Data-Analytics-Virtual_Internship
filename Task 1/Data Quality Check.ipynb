{
 "cells": [
  {
   "cell_type": "markdown",
   "id": "ca7c5f4f-77db-4535-9255-aa11f42e59ee",
   "metadata": {},
   "source": [
    "<div style=\"text-align:center; background-color:#000080; padding:10px; border-radius:5px;\">\n",
    "    <h2 style=\"color:#FFF;\">KPMG Virtual Internship - Data Analytics - Task 1</h2>\n",
    "</div>"
   ]
  },
  {
   "cell_type": "markdown",
   "id": "4d684066-f462-4714-8bb6-af372d1d9719",
   "metadata": {},
   "source": [
    "In the first task, our goal is to check and review the data quality in the given sheets of raw data from `Sprocket Central Pty Ltd`. It is important to ensure a good quality of data with no discrepancies to ensure quality data for next phase, i.e., analytics and inferencing insights."
   ]
  },
  {
   "cell_type": "code",
   "execution_count": 1,
   "id": "d13892e3-7aa2-4efb-9795-78443a86939b",
   "metadata": {},
   "outputs": [],
   "source": [
    "import pandas as pd     # Import packages for laoding\n",
    "import numpy as np"
   ]
  },
  {
   "cell_type": "code",
   "execution_count": 3,
   "id": "ae843d9a-bf94-4814-ac3d-b1e7999d284f",
   "metadata": {},
   "outputs": [],
   "source": [
    "# There are datetime columns in pur raw data sheets, so we are using datetime to specify the column\n",
    "\n",
    "transactions = pd.read_excel('KPMG_rawdata.xlsx', sheet_name='Transactions', \n",
    "                             dtype={'transaction_date': 'datetime64[ns]'})\n",
    "new_customer_list = pd.read_excel('KPMG_rawdata.xlsx', sheet_name='NewCustomerList', \n",
    "                                  dtype={'DOB': 'datetime64[ns]'})\n",
    "customer_demographic = pd.read_excel('KPMG_rawdata.xlsx', sheet_name='CustomerDemographic', \n",
    "                                     dtype={'DOB': 'datetime64[ns]'})\n",
    "customer_address = pd.read_excel('KPMG_rawdata.xlsx', sheet_name='CustomerAddress')\n"
   ]
  },
  {
   "cell_type": "markdown",
   "id": "027a92c4-150e-46ba-aa64-c91b64ef87dd",
   "metadata": {},
   "source": [
    "Before joining all the above dataframes, we would check for the inaccuracies in each dataframe individually and document it further to email the client.\n"
   ]
  },
  {
   "cell_type": "markdown",
   "id": "23ed5615-c923-49f3-bfd5-cf40895561c4",
   "metadata": {},
   "source": [
    "<div style=\"text-align:center; background-color:#ADD8E6; padding:10px; border-radius:5px;\">\n",
    "    <h2 style=\"color:#000;\">Transactions Data Quality Check</h2>\n",
    "</div>\n"
   ]
  },
  {
   "cell_type": "markdown",
   "id": "e869f8ac-c09d-4666-8b28-e827bffeb535",
   "metadata": {},
   "source": [
    "In this section, we would deeply check and provide a quality review for `Transactions` data."
   ]
  },
  {
   "cell_type": "code",
   "execution_count": 6,
   "id": "2f4f8301-6ee9-46c8-a235-a1db5f2cdcdb",
   "metadata": {},
   "outputs": [
    {
     "data": {
      "text/html": [
       "<div>\n",
       "<style scoped>\n",
       "    .dataframe tbody tr th:only-of-type {\n",
       "        vertical-align: middle;\n",
       "    }\n",
       "\n",
       "    .dataframe tbody tr th {\n",
       "        vertical-align: top;\n",
       "    }\n",
       "\n",
       "    .dataframe thead th {\n",
       "        text-align: right;\n",
       "    }\n",
       "</style>\n",
       "<table border=\"1\" class=\"dataframe\">\n",
       "  <thead>\n",
       "    <tr style=\"text-align: right;\">\n",
       "      <th></th>\n",
       "      <th>transaction_id</th>\n",
       "      <th>product_id</th>\n",
       "      <th>customer_id</th>\n",
       "      <th>transaction_date</th>\n",
       "      <th>online_order</th>\n",
       "      <th>order_status</th>\n",
       "      <th>brand</th>\n",
       "      <th>product_line</th>\n",
       "      <th>product_class</th>\n",
       "      <th>product_size</th>\n",
       "      <th>list_price</th>\n",
       "      <th>standard_cost</th>\n",
       "      <th>product_first_sold_date</th>\n",
       "    </tr>\n",
       "  </thead>\n",
       "  <tbody>\n",
       "    <tr>\n",
       "      <th>0</th>\n",
       "      <td>1</td>\n",
       "      <td>2</td>\n",
       "      <td>2950</td>\n",
       "      <td>2017-02-25</td>\n",
       "      <td>0.0</td>\n",
       "      <td>Approved</td>\n",
       "      <td>Solex</td>\n",
       "      <td>Standard</td>\n",
       "      <td>medium</td>\n",
       "      <td>medium</td>\n",
       "      <td>71.49</td>\n",
       "      <td>53.62</td>\n",
       "      <td>41245.0</td>\n",
       "    </tr>\n",
       "    <tr>\n",
       "      <th>1</th>\n",
       "      <td>2</td>\n",
       "      <td>3</td>\n",
       "      <td>3120</td>\n",
       "      <td>2017-05-21</td>\n",
       "      <td>1.0</td>\n",
       "      <td>Approved</td>\n",
       "      <td>Trek Bicycles</td>\n",
       "      <td>Standard</td>\n",
       "      <td>medium</td>\n",
       "      <td>large</td>\n",
       "      <td>2091.47</td>\n",
       "      <td>388.92</td>\n",
       "      <td>41701.0</td>\n",
       "    </tr>\n",
       "    <tr>\n",
       "      <th>2</th>\n",
       "      <td>3</td>\n",
       "      <td>37</td>\n",
       "      <td>402</td>\n",
       "      <td>2017-10-16</td>\n",
       "      <td>0.0</td>\n",
       "      <td>Approved</td>\n",
       "      <td>OHM Cycles</td>\n",
       "      <td>Standard</td>\n",
       "      <td>low</td>\n",
       "      <td>medium</td>\n",
       "      <td>1793.43</td>\n",
       "      <td>248.82</td>\n",
       "      <td>36361.0</td>\n",
       "    </tr>\n",
       "    <tr>\n",
       "      <th>3</th>\n",
       "      <td>4</td>\n",
       "      <td>88</td>\n",
       "      <td>3135</td>\n",
       "      <td>2017-08-31</td>\n",
       "      <td>0.0</td>\n",
       "      <td>Approved</td>\n",
       "      <td>Norco Bicycles</td>\n",
       "      <td>Standard</td>\n",
       "      <td>medium</td>\n",
       "      <td>medium</td>\n",
       "      <td>1198.46</td>\n",
       "      <td>381.10</td>\n",
       "      <td>36145.0</td>\n",
       "    </tr>\n",
       "    <tr>\n",
       "      <th>4</th>\n",
       "      <td>5</td>\n",
       "      <td>78</td>\n",
       "      <td>787</td>\n",
       "      <td>2017-10-01</td>\n",
       "      <td>1.0</td>\n",
       "      <td>Approved</td>\n",
       "      <td>Giant Bicycles</td>\n",
       "      <td>Standard</td>\n",
       "      <td>medium</td>\n",
       "      <td>large</td>\n",
       "      <td>1765.30</td>\n",
       "      <td>709.48</td>\n",
       "      <td>42226.0</td>\n",
       "    </tr>\n",
       "  </tbody>\n",
       "</table>\n",
       "</div>"
      ],
      "text/plain": [
       "   transaction_id  product_id  customer_id transaction_date  online_order  \\\n",
       "0               1           2         2950       2017-02-25           0.0   \n",
       "1               2           3         3120       2017-05-21           1.0   \n",
       "2               3          37          402       2017-10-16           0.0   \n",
       "3               4          88         3135       2017-08-31           0.0   \n",
       "4               5          78          787       2017-10-01           1.0   \n",
       "\n",
       "  order_status           brand product_line product_class product_size  \\\n",
       "0     Approved           Solex     Standard        medium       medium   \n",
       "1     Approved   Trek Bicycles     Standard        medium        large   \n",
       "2     Approved      OHM Cycles     Standard           low       medium   \n",
       "3     Approved  Norco Bicycles     Standard        medium       medium   \n",
       "4     Approved  Giant Bicycles     Standard        medium        large   \n",
       "\n",
       "   list_price  standard_cost  product_first_sold_date  \n",
       "0       71.49          53.62                  41245.0  \n",
       "1     2091.47         388.92                  41701.0  \n",
       "2     1793.43         248.82                  36361.0  \n",
       "3     1198.46         381.10                  36145.0  \n",
       "4     1765.30         709.48                  42226.0  "
      ]
     },
     "execution_count": 6,
     "metadata": {},
     "output_type": "execute_result"
    }
   ],
   "source": [
    "transactions.head()"
   ]
  },
  {
   "cell_type": "code",
   "execution_count": 12,
   "id": "0a01b309-53db-4969-b164-7f1a29b05b42",
   "metadata": {},
   "outputs": [
    {
     "data": {
      "text/plain": [
       "online_order               1.800\n",
       "brand                      0.985\n",
       "product_line               0.985\n",
       "product_class              0.985\n",
       "product_size               0.985\n",
       "standard_cost              0.985\n",
       "product_first_sold_date    0.985\n",
       "transaction_id             0.000\n",
       "product_id                 0.000\n",
       "customer_id                0.000\n",
       "transaction_date           0.000\n",
       "order_status               0.000\n",
       "list_price                 0.000\n",
       "dtype: float64"
      ]
     },
     "execution_count": 12,
     "metadata": {},
     "output_type": "execute_result"
    }
   ],
   "source": [
    "(transactions.isna().sum()/len(transactions)*100).sort_values(ascending=False)"
   ]
  },
  {
   "cell_type": "code",
   "execution_count": 9,
   "id": "3a3ad477-72d1-48b5-85bb-e6b8491cba84",
   "metadata": {},
   "outputs": [
    {
     "data": {
      "text/plain": [
       "0"
      ]
     },
     "execution_count": 9,
     "metadata": {},
     "output_type": "execute_result"
    }
   ],
   "source": [
    "transactions.duplicated().sum()"
   ]
  },
  {
   "cell_type": "markdown",
   "id": "903ee652-c6ee-4c00-b218-c89661033d83",
   "metadata": {},
   "source": [
    "- There are no duplicate values in `transactions` data.\n",
    "- But there are a small proportion of missing values in the columns such as `online_order`, `brand`, `product_line` etc.\n",
    "\n",
    "We will look deeper into these missing values to make a suggestion. Let's go column-wise."
   ]
  },
  {
   "cell_type": "code",
   "execution_count": 16,
   "id": "8035e2ab-678d-4b03-bf19-d67615250b98",
   "metadata": {},
   "outputs": [
    {
     "data": {
      "text/html": [
       "<div>\n",
       "<style scoped>\n",
       "    .dataframe tbody tr th:only-of-type {\n",
       "        vertical-align: middle;\n",
       "    }\n",
       "\n",
       "    .dataframe tbody tr th {\n",
       "        vertical-align: top;\n",
       "    }\n",
       "\n",
       "    .dataframe thead th {\n",
       "        text-align: right;\n",
       "    }\n",
       "</style>\n",
       "<table border=\"1\" class=\"dataframe\">\n",
       "  <thead>\n",
       "    <tr style=\"text-align: right;\">\n",
       "      <th></th>\n",
       "      <th>transaction_id</th>\n",
       "      <th>product_id</th>\n",
       "      <th>customer_id</th>\n",
       "      <th>transaction_date</th>\n",
       "      <th>online_order</th>\n",
       "      <th>order_status</th>\n",
       "      <th>brand</th>\n",
       "      <th>product_line</th>\n",
       "      <th>product_class</th>\n",
       "      <th>product_size</th>\n",
       "      <th>list_price</th>\n",
       "      <th>standard_cost</th>\n",
       "      <th>product_first_sold_date</th>\n",
       "    </tr>\n",
       "  </thead>\n",
       "  <tbody>\n",
       "    <tr>\n",
       "      <th>97</th>\n",
       "      <td>98</td>\n",
       "      <td>49</td>\n",
       "      <td>333</td>\n",
       "      <td>2017-06-23</td>\n",
       "      <td>NaN</td>\n",
       "      <td>Approved</td>\n",
       "      <td>Trek Bicycles</td>\n",
       "      <td>Road</td>\n",
       "      <td>medium</td>\n",
       "      <td>medium</td>\n",
       "      <td>533.51</td>\n",
       "      <td>400.13</td>\n",
       "      <td>37823.0</td>\n",
       "    </tr>\n",
       "    <tr>\n",
       "      <th>166</th>\n",
       "      <td>167</td>\n",
       "      <td>90</td>\n",
       "      <td>3177</td>\n",
       "      <td>2017-04-26</td>\n",
       "      <td>NaN</td>\n",
       "      <td>Approved</td>\n",
       "      <td>Norco Bicycles</td>\n",
       "      <td>Standard</td>\n",
       "      <td>low</td>\n",
       "      <td>medium</td>\n",
       "      <td>363.01</td>\n",
       "      <td>290.41</td>\n",
       "      <td>38482.0</td>\n",
       "    </tr>\n",
       "    <tr>\n",
       "      <th>169</th>\n",
       "      <td>170</td>\n",
       "      <td>6</td>\n",
       "      <td>404</td>\n",
       "      <td>2017-10-16</td>\n",
       "      <td>NaN</td>\n",
       "      <td>Approved</td>\n",
       "      <td>OHM Cycles</td>\n",
       "      <td>Standard</td>\n",
       "      <td>high</td>\n",
       "      <td>medium</td>\n",
       "      <td>227.88</td>\n",
       "      <td>136.73</td>\n",
       "      <td>37838.0</td>\n",
       "    </tr>\n",
       "    <tr>\n",
       "      <th>250</th>\n",
       "      <td>251</td>\n",
       "      <td>63</td>\n",
       "      <td>1967</td>\n",
       "      <td>2017-04-11</td>\n",
       "      <td>NaN</td>\n",
       "      <td>Approved</td>\n",
       "      <td>Solex</td>\n",
       "      <td>Standard</td>\n",
       "      <td>medium</td>\n",
       "      <td>medium</td>\n",
       "      <td>1483.20</td>\n",
       "      <td>99.59</td>\n",
       "      <td>42145.0</td>\n",
       "    </tr>\n",
       "    <tr>\n",
       "      <th>300</th>\n",
       "      <td>301</td>\n",
       "      <td>78</td>\n",
       "      <td>2530</td>\n",
       "      <td>2017-03-24</td>\n",
       "      <td>NaN</td>\n",
       "      <td>Approved</td>\n",
       "      <td>Giant Bicycles</td>\n",
       "      <td>Standard</td>\n",
       "      <td>medium</td>\n",
       "      <td>large</td>\n",
       "      <td>1765.30</td>\n",
       "      <td>709.48</td>\n",
       "      <td>35455.0</td>\n",
       "    </tr>\n",
       "  </tbody>\n",
       "</table>\n",
       "</div>"
      ],
      "text/plain": [
       "     transaction_id  product_id  customer_id transaction_date  online_order  \\\n",
       "97               98          49          333       2017-06-23           NaN   \n",
       "166             167          90         3177       2017-04-26           NaN   \n",
       "169             170           6          404       2017-10-16           NaN   \n",
       "250             251          63         1967       2017-04-11           NaN   \n",
       "300             301          78         2530       2017-03-24           NaN   \n",
       "\n",
       "    order_status           brand product_line product_class product_size  \\\n",
       "97      Approved   Trek Bicycles         Road        medium       medium   \n",
       "166     Approved  Norco Bicycles     Standard           low       medium   \n",
       "169     Approved      OHM Cycles     Standard          high       medium   \n",
       "250     Approved           Solex     Standard        medium       medium   \n",
       "300     Approved  Giant Bicycles     Standard        medium        large   \n",
       "\n",
       "     list_price  standard_cost  product_first_sold_date  \n",
       "97       533.51         400.13                  37823.0  \n",
       "166      363.01         290.41                  38482.0  \n",
       "169      227.88         136.73                  37838.0  \n",
       "250     1483.20          99.59                  42145.0  \n",
       "300     1765.30         709.48                  35455.0  "
      ]
     },
     "execution_count": 16,
     "metadata": {},
     "output_type": "execute_result"
    }
   ],
   "source": [
    "transactions[transactions['online_order'].isna()].head()"
   ]
  },
  {
   "cell_type": "code",
   "execution_count": 22,
   "id": "99710de9-a052-46fe-9287-1c23d2c306ae",
   "metadata": {},
   "outputs": [
    {
     "data": {
      "text/plain": [
       "11    41\n",
       "2     34\n",
       "3     32\n",
       "8     32\n",
       "7     31\n",
       "1     31\n",
       "4     28\n",
       "10    28\n",
       "6     27\n",
       "5     26\n",
       "12    25\n",
       "9     25\n",
       "Name: transaction_date, dtype: int64"
      ]
     },
     "execution_count": 22,
     "metadata": {},
     "output_type": "execute_result"
    }
   ],
   "source": [
    "transactions[transactions['online_order'].isna()]['transaction_date'].dt.month.value_counts()"
   ]
  },
  {
   "cell_type": "code",
   "execution_count": 23,
   "id": "a8429bfe-d62f-46b3-a919-6729b4c75c2c",
   "metadata": {},
   "outputs": [
    {
     "data": {
      "text/plain": [
       "medium    239\n",
       "high       61\n",
       "low        58\n",
       "Name: product_class, dtype: int64"
      ]
     },
     "execution_count": 23,
     "metadata": {},
     "output_type": "execute_result"
    }
   ],
   "source": [
    "transactions[transactions['online_order'].isna()]['product_class'].value_counts()"
   ]
  },
  {
   "cell_type": "code",
   "execution_count": 21,
   "id": "e1e2a788-7db1-484e-bf4e-edc1852762cb",
   "metadata": {},
   "outputs": [
    {
     "data": {
      "text/plain": [
       "medium    223\n",
       "large      76\n",
       "small      59\n",
       "Name: product_size, dtype: int64"
      ]
     },
     "execution_count": 21,
     "metadata": {},
     "output_type": "execute_result"
    }
   ],
   "source": [
    "transactions[transactions['online_order'].isna()]['product_size'].value_counts()"
   ]
  },
  {
   "cell_type": "markdown",
   "id": "717d854b-5a02-4ad6-a32b-de7fd7154024",
   "metadata": {},
   "source": [
    "- There seems to be no pattern in missing values in `online_order` regarding month of transaction.\n",
    "- There are maximum missing values for `medium` product size and product class. We are assuming it might be due to some mechanical or human error.\n",
    "\n",
    "-- Advised to look deeper into these `medium` sized online orders."
   ]
  },
  {
   "cell_type": "code",
   "execution_count": 25,
   "id": "932f3a9e-e9fc-4c26-bb30-1be8dfae6ef6",
   "metadata": {},
   "outputs": [
    {
     "data": {
      "text/html": [
       "<div>\n",
       "<style scoped>\n",
       "    .dataframe tbody tr th:only-of-type {\n",
       "        vertical-align: middle;\n",
       "    }\n",
       "\n",
       "    .dataframe tbody tr th {\n",
       "        vertical-align: top;\n",
       "    }\n",
       "\n",
       "    .dataframe thead th {\n",
       "        text-align: right;\n",
       "    }\n",
       "</style>\n",
       "<table border=\"1\" class=\"dataframe\">\n",
       "  <thead>\n",
       "    <tr style=\"text-align: right;\">\n",
       "      <th></th>\n",
       "      <th>transaction_id</th>\n",
       "      <th>product_id</th>\n",
       "      <th>customer_id</th>\n",
       "      <th>transaction_date</th>\n",
       "      <th>online_order</th>\n",
       "      <th>order_status</th>\n",
       "      <th>brand</th>\n",
       "      <th>product_line</th>\n",
       "      <th>product_class</th>\n",
       "      <th>product_size</th>\n",
       "      <th>list_price</th>\n",
       "      <th>standard_cost</th>\n",
       "      <th>product_first_sold_date</th>\n",
       "    </tr>\n",
       "  </thead>\n",
       "  <tbody>\n",
       "    <tr>\n",
       "      <th>136</th>\n",
       "      <td>137</td>\n",
       "      <td>0</td>\n",
       "      <td>431</td>\n",
       "      <td>2017-09-23</td>\n",
       "      <td>0.0</td>\n",
       "      <td>Approved</td>\n",
       "      <td>NaN</td>\n",
       "      <td>NaN</td>\n",
       "      <td>NaN</td>\n",
       "      <td>NaN</td>\n",
       "      <td>1942.61</td>\n",
       "      <td>NaN</td>\n",
       "      <td>NaN</td>\n",
       "    </tr>\n",
       "    <tr>\n",
       "      <th>159</th>\n",
       "      <td>160</td>\n",
       "      <td>0</td>\n",
       "      <td>3300</td>\n",
       "      <td>2017-08-27</td>\n",
       "      <td>0.0</td>\n",
       "      <td>Approved</td>\n",
       "      <td>NaN</td>\n",
       "      <td>NaN</td>\n",
       "      <td>NaN</td>\n",
       "      <td>NaN</td>\n",
       "      <td>1656.86</td>\n",
       "      <td>NaN</td>\n",
       "      <td>NaN</td>\n",
       "    </tr>\n",
       "    <tr>\n",
       "      <th>366</th>\n",
       "      <td>367</td>\n",
       "      <td>0</td>\n",
       "      <td>1614</td>\n",
       "      <td>2017-03-10</td>\n",
       "      <td>0.0</td>\n",
       "      <td>Approved</td>\n",
       "      <td>NaN</td>\n",
       "      <td>NaN</td>\n",
       "      <td>NaN</td>\n",
       "      <td>NaN</td>\n",
       "      <td>850.89</td>\n",
       "      <td>NaN</td>\n",
       "      <td>NaN</td>\n",
       "    </tr>\n",
       "    <tr>\n",
       "      <th>406</th>\n",
       "      <td>407</td>\n",
       "      <td>0</td>\n",
       "      <td>2559</td>\n",
       "      <td>2017-06-14</td>\n",
       "      <td>1.0</td>\n",
       "      <td>Approved</td>\n",
       "      <td>NaN</td>\n",
       "      <td>NaN</td>\n",
       "      <td>NaN</td>\n",
       "      <td>NaN</td>\n",
       "      <td>710.59</td>\n",
       "      <td>NaN</td>\n",
       "      <td>NaN</td>\n",
       "    </tr>\n",
       "    <tr>\n",
       "      <th>676</th>\n",
       "      <td>677</td>\n",
       "      <td>0</td>\n",
       "      <td>2609</td>\n",
       "      <td>2017-07-02</td>\n",
       "      <td>0.0</td>\n",
       "      <td>Approved</td>\n",
       "      <td>NaN</td>\n",
       "      <td>NaN</td>\n",
       "      <td>NaN</td>\n",
       "      <td>NaN</td>\n",
       "      <td>1972.01</td>\n",
       "      <td>NaN</td>\n",
       "      <td>NaN</td>\n",
       "    </tr>\n",
       "  </tbody>\n",
       "</table>\n",
       "</div>"
      ],
      "text/plain": [
       "     transaction_id  product_id  customer_id transaction_date  online_order  \\\n",
       "136             137           0          431       2017-09-23           0.0   \n",
       "159             160           0         3300       2017-08-27           0.0   \n",
       "366             367           0         1614       2017-03-10           0.0   \n",
       "406             407           0         2559       2017-06-14           1.0   \n",
       "676             677           0         2609       2017-07-02           0.0   \n",
       "\n",
       "    order_status brand product_line product_class product_size  list_price  \\\n",
       "136     Approved   NaN          NaN           NaN          NaN     1942.61   \n",
       "159     Approved   NaN          NaN           NaN          NaN     1656.86   \n",
       "366     Approved   NaN          NaN           NaN          NaN      850.89   \n",
       "406     Approved   NaN          NaN           NaN          NaN      710.59   \n",
       "676     Approved   NaN          NaN           NaN          NaN     1972.01   \n",
       "\n",
       "     standard_cost  product_first_sold_date  \n",
       "136            NaN                      NaN  \n",
       "159            NaN                      NaN  \n",
       "366            NaN                      NaN  \n",
       "406            NaN                      NaN  \n",
       "676            NaN                      NaN  "
      ]
     },
     "execution_count": 25,
     "metadata": {},
     "output_type": "execute_result"
    }
   ],
   "source": [
    "transactions[transactions['brand'].isna()].head()"
   ]
  },
  {
   "cell_type": "code",
   "execution_count": 30,
   "id": "2eea319a-79a0-4339-89f1-502f334dae23",
   "metadata": {},
   "outputs": [
    {
     "data": {
      "text/plain": [
       "0    197\n",
       "Name: product_id, dtype: int64"
      ]
     },
     "execution_count": 30,
     "metadata": {},
     "output_type": "execute_result"
    }
   ],
   "source": [
    "transactions[transactions['brand'].isna()]['product_id'].value_counts()"
   ]
  },
  {
   "cell_type": "markdown",
   "id": "bc89eb1a-a1b0-4d7d-b064-b59c790436ae",
   "metadata": {},
   "source": [
    "- Records where there is missing value in `brand` column correspondingly has missing values in `product_line`, `product_class`, `product_size`, `standard_cost` and `product_first_sold_date` columns.\n",
    "- Surprisingly these all records have same `product_id`, i.e., `0`\n",
    "\n",
    "-- Hence, it is suggested to look more into why products belonging to this particular product ID has missing values in `brand`, `product_line`, `product_class`, `product_size`, `standard_cost` and `product_first_sold_date` columns."
   ]
  },
  {
   "cell_type": "markdown",
   "id": "5e94f887-277b-46f3-91dd-9566b4202eab",
   "metadata": {},
   "source": [
    "<div style=\"text-align:center; background-color:#B4E57C; padding:10px; border-radius:5px;\">\n",
    "    <h2 style=\"color:#000;\">New Customer List Data Quality Check</h2>\n",
    "</div>\n"
   ]
  },
  {
   "cell_type": "markdown",
   "id": "ca349133-4700-4c2d-94f5-3b21e96e5e0e",
   "metadata": {},
   "source": [
    "In this section, let us look for possible presence of data discrepancies and inaccuracies in `New Customers List`."
   ]
  },
  {
   "cell_type": "code",
   "execution_count": 38,
   "id": "cfb99e03-67ce-4eb7-8381-14627b4e5ccf",
   "metadata": {},
   "outputs": [
    {
     "data": {
      "text/html": [
       "<div>\n",
       "<style scoped>\n",
       "    .dataframe tbody tr th:only-of-type {\n",
       "        vertical-align: middle;\n",
       "    }\n",
       "\n",
       "    .dataframe tbody tr th {\n",
       "        vertical-align: top;\n",
       "    }\n",
       "\n",
       "    .dataframe thead th {\n",
       "        text-align: right;\n",
       "    }\n",
       "</style>\n",
       "<table border=\"1\" class=\"dataframe\">\n",
       "  <thead>\n",
       "    <tr style=\"text-align: right;\">\n",
       "      <th></th>\n",
       "      <th>first_name</th>\n",
       "      <th>last_name</th>\n",
       "      <th>gender</th>\n",
       "      <th>past_3_years_bike_related_purchases</th>\n",
       "      <th>DOB</th>\n",
       "      <th>job_title</th>\n",
       "      <th>job_industry_category</th>\n",
       "      <th>wealth_segment</th>\n",
       "      <th>deceased_indicator</th>\n",
       "      <th>owns_car</th>\n",
       "      <th>...</th>\n",
       "      <th>state</th>\n",
       "      <th>country</th>\n",
       "      <th>property_valuation</th>\n",
       "      <th>Unnamed: 16</th>\n",
       "      <th>Unnamed: 17</th>\n",
       "      <th>Unnamed: 18</th>\n",
       "      <th>Unnamed: 19</th>\n",
       "      <th>Unnamed: 20</th>\n",
       "      <th>Rank</th>\n",
       "      <th>Value</th>\n",
       "    </tr>\n",
       "  </thead>\n",
       "  <tbody>\n",
       "    <tr>\n",
       "      <th>0</th>\n",
       "      <td>Chickie</td>\n",
       "      <td>Brister</td>\n",
       "      <td>Male</td>\n",
       "      <td>86</td>\n",
       "      <td>1957-07-12</td>\n",
       "      <td>General Manager</td>\n",
       "      <td>Manufacturing</td>\n",
       "      <td>Mass Customer</td>\n",
       "      <td>N</td>\n",
       "      <td>Yes</td>\n",
       "      <td>...</td>\n",
       "      <td>QLD</td>\n",
       "      <td>Australia</td>\n",
       "      <td>6</td>\n",
       "      <td>0.94</td>\n",
       "      <td>1.175</td>\n",
       "      <td>1.46875</td>\n",
       "      <td>1.248437</td>\n",
       "      <td>1</td>\n",
       "      <td>1</td>\n",
       "      <td>1.718750</td>\n",
       "    </tr>\n",
       "    <tr>\n",
       "      <th>1</th>\n",
       "      <td>Morly</td>\n",
       "      <td>Genery</td>\n",
       "      <td>Male</td>\n",
       "      <td>69</td>\n",
       "      <td>1970-03-22</td>\n",
       "      <td>Structural Engineer</td>\n",
       "      <td>Property</td>\n",
       "      <td>Mass Customer</td>\n",
       "      <td>N</td>\n",
       "      <td>No</td>\n",
       "      <td>...</td>\n",
       "      <td>NSW</td>\n",
       "      <td>Australia</td>\n",
       "      <td>11</td>\n",
       "      <td>0.83</td>\n",
       "      <td>0.830</td>\n",
       "      <td>1.03750</td>\n",
       "      <td>0.881875</td>\n",
       "      <td>1</td>\n",
       "      <td>1</td>\n",
       "      <td>1.718750</td>\n",
       "    </tr>\n",
       "    <tr>\n",
       "      <th>2</th>\n",
       "      <td>Ardelis</td>\n",
       "      <td>Forrester</td>\n",
       "      <td>Female</td>\n",
       "      <td>10</td>\n",
       "      <td>1974-08-28</td>\n",
       "      <td>Senior Cost Accountant</td>\n",
       "      <td>Financial Services</td>\n",
       "      <td>Affluent Customer</td>\n",
       "      <td>N</td>\n",
       "      <td>No</td>\n",
       "      <td>...</td>\n",
       "      <td>VIC</td>\n",
       "      <td>Australia</td>\n",
       "      <td>5</td>\n",
       "      <td>1.05</td>\n",
       "      <td>1.050</td>\n",
       "      <td>1.05000</td>\n",
       "      <td>1.050000</td>\n",
       "      <td>1</td>\n",
       "      <td>1</td>\n",
       "      <td>1.718750</td>\n",
       "    </tr>\n",
       "    <tr>\n",
       "      <th>3</th>\n",
       "      <td>Lucine</td>\n",
       "      <td>Stutt</td>\n",
       "      <td>Female</td>\n",
       "      <td>64</td>\n",
       "      <td>1979-01-28</td>\n",
       "      <td>Account Representative III</td>\n",
       "      <td>Manufacturing</td>\n",
       "      <td>Affluent Customer</td>\n",
       "      <td>N</td>\n",
       "      <td>Yes</td>\n",
       "      <td>...</td>\n",
       "      <td>QLD</td>\n",
       "      <td>Australia</td>\n",
       "      <td>1</td>\n",
       "      <td>0.98</td>\n",
       "      <td>1.225</td>\n",
       "      <td>1.22500</td>\n",
       "      <td>1.225000</td>\n",
       "      <td>4</td>\n",
       "      <td>4</td>\n",
       "      <td>1.703125</td>\n",
       "    </tr>\n",
       "    <tr>\n",
       "      <th>4</th>\n",
       "      <td>Melinda</td>\n",
       "      <td>Hadlee</td>\n",
       "      <td>Female</td>\n",
       "      <td>34</td>\n",
       "      <td>1965-09-21</td>\n",
       "      <td>Financial Analyst</td>\n",
       "      <td>Financial Services</td>\n",
       "      <td>Affluent Customer</td>\n",
       "      <td>N</td>\n",
       "      <td>No</td>\n",
       "      <td>...</td>\n",
       "      <td>NSW</td>\n",
       "      <td>Australia</td>\n",
       "      <td>9</td>\n",
       "      <td>0.68</td>\n",
       "      <td>0.680</td>\n",
       "      <td>0.85000</td>\n",
       "      <td>0.850000</td>\n",
       "      <td>4</td>\n",
       "      <td>4</td>\n",
       "      <td>1.703125</td>\n",
       "    </tr>\n",
       "  </tbody>\n",
       "</table>\n",
       "<p>5 rows × 23 columns</p>\n",
       "</div>"
      ],
      "text/plain": [
       "  first_name  last_name  gender  past_3_years_bike_related_purchases  \\\n",
       "0    Chickie    Brister    Male                                   86   \n",
       "1      Morly     Genery    Male                                   69   \n",
       "2    Ardelis  Forrester  Female                                   10   \n",
       "3     Lucine      Stutt  Female                                   64   \n",
       "4    Melinda     Hadlee  Female                                   34   \n",
       "\n",
       "         DOB                   job_title job_industry_category  \\\n",
       "0 1957-07-12             General Manager         Manufacturing   \n",
       "1 1970-03-22         Structural Engineer              Property   \n",
       "2 1974-08-28      Senior Cost Accountant    Financial Services   \n",
       "3 1979-01-28  Account Representative III         Manufacturing   \n",
       "4 1965-09-21           Financial Analyst    Financial Services   \n",
       "\n",
       "      wealth_segment deceased_indicator owns_car  ...  state    country  \\\n",
       "0      Mass Customer                  N      Yes  ...    QLD  Australia   \n",
       "1      Mass Customer                  N       No  ...    NSW  Australia   \n",
       "2  Affluent Customer                  N       No  ...    VIC  Australia   \n",
       "3  Affluent Customer                  N      Yes  ...    QLD  Australia   \n",
       "4  Affluent Customer                  N       No  ...    NSW  Australia   \n",
       "\n",
       "   property_valuation Unnamed: 16 Unnamed: 17  Unnamed: 18  Unnamed: 19  \\\n",
       "0                   6        0.94       1.175      1.46875     1.248437   \n",
       "1                  11        0.83       0.830      1.03750     0.881875   \n",
       "2                   5        1.05       1.050      1.05000     1.050000   \n",
       "3                   1        0.98       1.225      1.22500     1.225000   \n",
       "4                   9        0.68       0.680      0.85000     0.850000   \n",
       "\n",
       "   Unnamed: 20  Rank     Value  \n",
       "0            1     1  1.718750  \n",
       "1            1     1  1.718750  \n",
       "2            1     1  1.718750  \n",
       "3            4     4  1.703125  \n",
       "4            4     4  1.703125  \n",
       "\n",
       "[5 rows x 23 columns]"
      ]
     },
     "execution_count": 38,
     "metadata": {},
     "output_type": "execute_result"
    }
   ],
   "source": [
    "new_customer_list.head()"
   ]
  },
  {
   "cell_type": "code",
   "execution_count": 43,
   "id": "3f1b65ca-98ea-4375-8154-84ca7b9e2a10",
   "metadata": {},
   "outputs": [
    {
     "data": {
      "text/plain": [
       "job_industry_category    16.5\n",
       "job_title                10.6\n",
       "last_name                 2.9\n",
       "DOB                       1.7\n",
       "first_name                0.0\n",
       "dtype: float64"
      ]
     },
     "execution_count": 43,
     "metadata": {},
     "output_type": "execute_result"
    }
   ],
   "source": [
    "(new_customer_list.isna().sum()/len(new_customer_list)*100).sort_values(ascending=False)[:5]"
   ]
  },
  {
   "cell_type": "code",
   "execution_count": 45,
   "id": "9a69638a-4b6a-4230-ad2d-85550781b86a",
   "metadata": {},
   "outputs": [
    {
     "data": {
      "text/plain": [
       "0"
      ]
     },
     "execution_count": 45,
     "metadata": {},
     "output_type": "execute_result"
    }
   ],
   "source": [
    "new_customer_list.duplicated().sum()"
   ]
  },
  {
   "cell_type": "markdown",
   "id": "6ed2cb47-1518-4b7b-aa45-ed28bede1a43",
   "metadata": {},
   "source": [
    "- `job_industry_category` has maximum number of missing values followed by `job_title`, `last_name` and `DOB`.\n",
    "- Fortunately, there are no duplicate values in the dataframe."
   ]
  },
  {
   "cell_type": "code",
   "execution_count": 47,
   "id": "558d3df7-ddb7-4785-9936-1b82c92e4401",
   "metadata": {},
   "outputs": [
    {
     "data": {
      "text/plain": [
       "Index(['first_name', 'last_name', 'gender',\n",
       "       'past_3_years_bike_related_purchases', 'DOB', 'job_title',\n",
       "       'job_industry_category', 'wealth_segment', 'deceased_indicator',\n",
       "       'owns_car', 'tenure', 'address', 'postcode', 'state', 'country',\n",
       "       'property_valuation', 'Unnamed: 16', 'Unnamed: 17', 'Unnamed: 18',\n",
       "       'Unnamed: 19', 'Unnamed: 20', 'Rank', 'Value'],\n",
       "      dtype='object')"
      ]
     },
     "execution_count": 47,
     "metadata": {},
     "output_type": "execute_result"
    }
   ],
   "source": [
    "new_customer_list.columns"
   ]
  },
  {
   "cell_type": "markdown",
   "id": "d8cc0f5e-1912-4c18-bd70-5ee75ffb5b42",
   "metadata": {},
   "source": [
    "- Looking at column names (as there are 23 columns), there are columns with names and values which indicate some quantity but have not been named appropriately.\n",
    "- These columns are `Unnamed: 16`, `Unnamed: 17`, `Unnamed: 18`, `Unnamed: 19`, `Unnamed: 20`, `Rank` and `Value`.\n",
    "- Also, `Unnamed: 20` and `Rank` column are indicating to same value.\n",
    "- Unit of measurement has not been specified in `property_valuation` column.\n",
    "\n",
    "Let us look deeper into columns with appropriate names and values."
   ]
  },
  {
   "cell_type": "code",
   "execution_count": 59,
   "id": "47884865-70ef-473b-9a3e-de1b45c99f4e",
   "metadata": {},
   "outputs": [
    {
     "data": {
      "text/html": [
       "<div>\n",
       "<style scoped>\n",
       "    .dataframe tbody tr th:only-of-type {\n",
       "        vertical-align: middle;\n",
       "    }\n",
       "\n",
       "    .dataframe tbody tr th {\n",
       "        vertical-align: top;\n",
       "    }\n",
       "\n",
       "    .dataframe thead th {\n",
       "        text-align: right;\n",
       "    }\n",
       "</style>\n",
       "<table border=\"1\" class=\"dataframe\">\n",
       "  <thead>\n",
       "    <tr style=\"text-align: right;\">\n",
       "      <th></th>\n",
       "      <th>first_name</th>\n",
       "      <th>last_name</th>\n",
       "      <th>gender</th>\n",
       "      <th>past_3_years_bike_related_purchases</th>\n",
       "      <th>DOB</th>\n",
       "      <th>job_title</th>\n",
       "      <th>job_industry_category</th>\n",
       "      <th>wealth_segment</th>\n",
       "      <th>deceased_indicator</th>\n",
       "      <th>owns_car</th>\n",
       "      <th>...</th>\n",
       "      <th>state</th>\n",
       "      <th>country</th>\n",
       "      <th>property_valuation</th>\n",
       "      <th>Unnamed: 16</th>\n",
       "      <th>Unnamed: 17</th>\n",
       "      <th>Unnamed: 18</th>\n",
       "      <th>Unnamed: 19</th>\n",
       "      <th>Unnamed: 20</th>\n",
       "      <th>Rank</th>\n",
       "      <th>Value</th>\n",
       "    </tr>\n",
       "  </thead>\n",
       "  <tbody>\n",
       "    <tr>\n",
       "      <th>12</th>\n",
       "      <td>Olag</td>\n",
       "      <td>NaN</td>\n",
       "      <td>Male</td>\n",
       "      <td>60</td>\n",
       "      <td>1990-05-13</td>\n",
       "      <td>Human Resources Manager</td>\n",
       "      <td>Telecommunications</td>\n",
       "      <td>Mass Customer</td>\n",
       "      <td>N</td>\n",
       "      <td>No</td>\n",
       "      <td>...</td>\n",
       "      <td>NSW</td>\n",
       "      <td>Australia</td>\n",
       "      <td>11</td>\n",
       "      <td>0.55</td>\n",
       "      <td>0.550</td>\n",
       "      <td>0.6875</td>\n",
       "      <td>0.584375</td>\n",
       "      <td>13</td>\n",
       "      <td>13</td>\n",
       "      <td>1.609375</td>\n",
       "    </tr>\n",
       "    <tr>\n",
       "      <th>58</th>\n",
       "      <td>Whittaker</td>\n",
       "      <td>NaN</td>\n",
       "      <td>Male</td>\n",
       "      <td>64</td>\n",
       "      <td>1966-07-29</td>\n",
       "      <td>Media Manager III</td>\n",
       "      <td>NaN</td>\n",
       "      <td>Mass Customer</td>\n",
       "      <td>N</td>\n",
       "      <td>Yes</td>\n",
       "      <td>...</td>\n",
       "      <td>VIC</td>\n",
       "      <td>Australia</td>\n",
       "      <td>5</td>\n",
       "      <td>0.78</td>\n",
       "      <td>0.975</td>\n",
       "      <td>0.9750</td>\n",
       "      <td>0.828750</td>\n",
       "      <td>57</td>\n",
       "      <td>57</td>\n",
       "      <td>1.375000</td>\n",
       "    </tr>\n",
       "  </tbody>\n",
       "</table>\n",
       "<p>2 rows × 23 columns</p>\n",
       "</div>"
      ],
      "text/plain": [
       "   first_name last_name gender  past_3_years_bike_related_purchases  \\\n",
       "12       Olag       NaN   Male                                   60   \n",
       "58  Whittaker       NaN   Male                                   64   \n",
       "\n",
       "          DOB                job_title job_industry_category wealth_segment  \\\n",
       "12 1990-05-13  Human Resources Manager    Telecommunications  Mass Customer   \n",
       "58 1966-07-29        Media Manager III                   NaN  Mass Customer   \n",
       "\n",
       "   deceased_indicator owns_car  ...  state    country  property_valuation  \\\n",
       "12                  N       No  ...    NSW  Australia                  11   \n",
       "58                  N      Yes  ...    VIC  Australia                   5   \n",
       "\n",
       "   Unnamed: 16 Unnamed: 17  Unnamed: 18  Unnamed: 19  Unnamed: 20  Rank  \\\n",
       "12        0.55       0.550       0.6875     0.584375           13    13   \n",
       "58        0.78       0.975       0.9750     0.828750           57    57   \n",
       "\n",
       "       Value  \n",
       "12  1.609375  \n",
       "58  1.375000  \n",
       "\n",
       "[2 rows x 23 columns]"
      ]
     },
     "execution_count": 59,
     "metadata": {},
     "output_type": "execute_result"
    }
   ],
   "source": [
    "new_customer_list[new_customer_list['last_name'].isna()].head(2)"
   ]
  },
  {
   "cell_type": "markdown",
   "id": "d96c66c8-8de8-42b5-b72e-1208c1cdda91",
   "metadata": {},
   "source": [
    "- Ask `last_names` of these particular customers and get rid of missing values in this column."
   ]
  },
  {
   "cell_type": "code",
   "execution_count": 65,
   "id": "51ff7bf6-be7b-4381-8a7c-1537d4302597",
   "metadata": {},
   "outputs": [
    {
     "name": "stdout",
     "output_type": "stream",
     "text": [
      "2002-02-27 00:00:00 1938-06-08 00:00:00\n"
     ]
    }
   ],
   "source": [
    "print(new_customer_list['DOB'].max(), new_customer_list['DOB'].min())"
   ]
  },
  {
   "cell_type": "code",
   "execution_count": 67,
   "id": "94d884cc-8ac9-401e-b051-8561ac1dfd54",
   "metadata": {},
   "outputs": [
    {
     "data": {
      "text/html": [
       "<div>\n",
       "<style scoped>\n",
       "    .dataframe tbody tr th:only-of-type {\n",
       "        vertical-align: middle;\n",
       "    }\n",
       "\n",
       "    .dataframe tbody tr th {\n",
       "        vertical-align: top;\n",
       "    }\n",
       "\n",
       "    .dataframe thead th {\n",
       "        text-align: right;\n",
       "    }\n",
       "</style>\n",
       "<table border=\"1\" class=\"dataframe\">\n",
       "  <thead>\n",
       "    <tr style=\"text-align: right;\">\n",
       "      <th></th>\n",
       "      <th>first_name</th>\n",
       "      <th>last_name</th>\n",
       "      <th>gender</th>\n",
       "      <th>past_3_years_bike_related_purchases</th>\n",
       "      <th>DOB</th>\n",
       "      <th>job_title</th>\n",
       "      <th>job_industry_category</th>\n",
       "      <th>wealth_segment</th>\n",
       "      <th>deceased_indicator</th>\n",
       "      <th>owns_car</th>\n",
       "      <th>...</th>\n",
       "      <th>state</th>\n",
       "      <th>country</th>\n",
       "      <th>property_valuation</th>\n",
       "      <th>Unnamed: 16</th>\n",
       "      <th>Unnamed: 17</th>\n",
       "      <th>Unnamed: 18</th>\n",
       "      <th>Unnamed: 19</th>\n",
       "      <th>Unnamed: 20</th>\n",
       "      <th>Rank</th>\n",
       "      <th>Value</th>\n",
       "    </tr>\n",
       "  </thead>\n",
       "  <tbody>\n",
       "    <tr>\n",
       "      <th>59</th>\n",
       "      <td>Normy</td>\n",
       "      <td>Goodinge</td>\n",
       "      <td>U</td>\n",
       "      <td>5</td>\n",
       "      <td>NaT</td>\n",
       "      <td>Associate Professor</td>\n",
       "      <td>IT</td>\n",
       "      <td>Mass Customer</td>\n",
       "      <td>N</td>\n",
       "      <td>No</td>\n",
       "      <td>...</td>\n",
       "      <td>VIC</td>\n",
       "      <td>Australia</td>\n",
       "      <td>5</td>\n",
       "      <td>0.85</td>\n",
       "      <td>0.850</td>\n",
       "      <td>0.85000</td>\n",
       "      <td>0.72250</td>\n",
       "      <td>57</td>\n",
       "      <td>57</td>\n",
       "      <td>1.3750</td>\n",
       "    </tr>\n",
       "    <tr>\n",
       "      <th>226</th>\n",
       "      <td>Hatti</td>\n",
       "      <td>Carletti</td>\n",
       "      <td>U</td>\n",
       "      <td>35</td>\n",
       "      <td>NaT</td>\n",
       "      <td>Legal Assistant</td>\n",
       "      <td>IT</td>\n",
       "      <td>Affluent Customer</td>\n",
       "      <td>N</td>\n",
       "      <td>Yes</td>\n",
       "      <td>...</td>\n",
       "      <td>NSW</td>\n",
       "      <td>Australia</td>\n",
       "      <td>9</td>\n",
       "      <td>0.50</td>\n",
       "      <td>0.625</td>\n",
       "      <td>0.78125</td>\n",
       "      <td>0.78125</td>\n",
       "      <td>226</td>\n",
       "      <td>226</td>\n",
       "      <td>1.1125</td>\n",
       "    </tr>\n",
       "  </tbody>\n",
       "</table>\n",
       "<p>2 rows × 23 columns</p>\n",
       "</div>"
      ],
      "text/plain": [
       "    first_name last_name gender  past_3_years_bike_related_purchases DOB  \\\n",
       "59       Normy  Goodinge      U                                    5 NaT   \n",
       "226      Hatti  Carletti      U                                   35 NaT   \n",
       "\n",
       "               job_title job_industry_category     wealth_segment  \\\n",
       "59   Associate Professor                    IT      Mass Customer   \n",
       "226      Legal Assistant                    IT  Affluent Customer   \n",
       "\n",
       "    deceased_indicator owns_car  ...  state    country  property_valuation  \\\n",
       "59                   N       No  ...    VIC  Australia                   5   \n",
       "226                  N      Yes  ...    NSW  Australia                   9   \n",
       "\n",
       "    Unnamed: 16 Unnamed: 17  Unnamed: 18  Unnamed: 19  Unnamed: 20  Rank  \\\n",
       "59         0.85       0.850      0.85000      0.72250           57    57   \n",
       "226        0.50       0.625      0.78125      0.78125          226   226   \n",
       "\n",
       "      Value  \n",
       "59   1.3750  \n",
       "226  1.1125  \n",
       "\n",
       "[2 rows x 23 columns]"
      ]
     },
     "execution_count": 67,
     "metadata": {},
     "output_type": "execute_result"
    }
   ],
   "source": [
    "new_customer_list[new_customer_list['DOB'].isna()].head(2)"
   ]
  },
  {
   "cell_type": "markdown",
   "id": "52bc0175-a5f5-444a-8b7c-94b94edc8fe9",
   "metadata": {},
   "source": [
    "- Customer with `U` (or Unidentified) gender seem to be the ones with missing data on `DOB` (Date of Birth).\n",
    "- This may be due to these customers unwilling to identify their gender.\n",
    "\n",
    "-- It is suggested to contact these customers with `U` (Unidentified) gender and ask for their `DOB` details."
   ]
  },
  {
   "cell_type": "code",
   "execution_count": 76,
   "id": "f0ecc043-27c0-4bce-a0be-7fcd0a5b1abc",
   "metadata": {},
   "outputs": [
    {
     "data": {
      "text/html": [
       "<div>\n",
       "<style scoped>\n",
       "    .dataframe tbody tr th:only-of-type {\n",
       "        vertical-align: middle;\n",
       "    }\n",
       "\n",
       "    .dataframe tbody tr th {\n",
       "        vertical-align: top;\n",
       "    }\n",
       "\n",
       "    .dataframe thead th {\n",
       "        text-align: right;\n",
       "    }\n",
       "</style>\n",
       "<table border=\"1\" class=\"dataframe\">\n",
       "  <thead>\n",
       "    <tr style=\"text-align: right;\">\n",
       "      <th></th>\n",
       "      <th>first_name</th>\n",
       "      <th>last_name</th>\n",
       "      <th>gender</th>\n",
       "      <th>past_3_years_bike_related_purchases</th>\n",
       "      <th>DOB</th>\n",
       "      <th>job_title</th>\n",
       "      <th>job_industry_category</th>\n",
       "      <th>wealth_segment</th>\n",
       "      <th>deceased_indicator</th>\n",
       "      <th>owns_car</th>\n",
       "      <th>...</th>\n",
       "      <th>state</th>\n",
       "      <th>country</th>\n",
       "      <th>property_valuation</th>\n",
       "      <th>Unnamed: 16</th>\n",
       "      <th>Unnamed: 17</th>\n",
       "      <th>Unnamed: 18</th>\n",
       "      <th>Unnamed: 19</th>\n",
       "      <th>Unnamed: 20</th>\n",
       "      <th>Rank</th>\n",
       "      <th>Value</th>\n",
       "    </tr>\n",
       "  </thead>\n",
       "  <tbody>\n",
       "    <tr>\n",
       "      <th>15</th>\n",
       "      <td>Dukie</td>\n",
       "      <td>Swire</td>\n",
       "      <td>Male</td>\n",
       "      <td>88</td>\n",
       "      <td>1954-03-31</td>\n",
       "      <td>NaN</td>\n",
       "      <td>Manufacturing</td>\n",
       "      <td>Affluent Customer</td>\n",
       "      <td>N</td>\n",
       "      <td>Yes</td>\n",
       "      <td>...</td>\n",
       "      <td>NSW</td>\n",
       "      <td>Australia</td>\n",
       "      <td>8</td>\n",
       "      <td>1.08</td>\n",
       "      <td>1.35</td>\n",
       "      <td>1.6875</td>\n",
       "      <td>1.6875</td>\n",
       "      <td>16</td>\n",
       "      <td>16</td>\n",
       "      <td>1.56250</td>\n",
       "    </tr>\n",
       "    <tr>\n",
       "      <th>25</th>\n",
       "      <td>Rourke</td>\n",
       "      <td>Gillbard</td>\n",
       "      <td>Male</td>\n",
       "      <td>11</td>\n",
       "      <td>1945-08-03</td>\n",
       "      <td>NaN</td>\n",
       "      <td>Property</td>\n",
       "      <td>Mass Customer</td>\n",
       "      <td>N</td>\n",
       "      <td>No</td>\n",
       "      <td>...</td>\n",
       "      <td>QLD</td>\n",
       "      <td>Australia</td>\n",
       "      <td>4</td>\n",
       "      <td>0.55</td>\n",
       "      <td>0.55</td>\n",
       "      <td>0.5500</td>\n",
       "      <td>0.4675</td>\n",
       "      <td>26</td>\n",
       "      <td>26</td>\n",
       "      <td>1.46875</td>\n",
       "    </tr>\n",
       "  </tbody>\n",
       "</table>\n",
       "<p>2 rows × 23 columns</p>\n",
       "</div>"
      ],
      "text/plain": [
       "   first_name last_name gender  past_3_years_bike_related_purchases  \\\n",
       "15      Dukie     Swire   Male                                   88   \n",
       "25     Rourke  Gillbard   Male                                   11   \n",
       "\n",
       "          DOB job_title job_industry_category     wealth_segment  \\\n",
       "15 1954-03-31       NaN         Manufacturing  Affluent Customer   \n",
       "25 1945-08-03       NaN              Property      Mass Customer   \n",
       "\n",
       "   deceased_indicator owns_car  ...  state    country  property_valuation  \\\n",
       "15                  N      Yes  ...    NSW  Australia                   8   \n",
       "25                  N       No  ...    QLD  Australia                   4   \n",
       "\n",
       "   Unnamed: 16 Unnamed: 17  Unnamed: 18  Unnamed: 19  Unnamed: 20  Rank  \\\n",
       "15        1.08        1.35       1.6875       1.6875           16    16   \n",
       "25        0.55        0.55       0.5500       0.4675           26    26   \n",
       "\n",
       "      Value  \n",
       "15  1.56250  \n",
       "25  1.46875  \n",
       "\n",
       "[2 rows x 23 columns]"
      ]
     },
     "execution_count": 76,
     "metadata": {},
     "output_type": "execute_result"
    }
   ],
   "source": [
    "new_customer_list[new_customer_list['job_title'].isna()].head(2)"
   ]
  },
  {
   "cell_type": "markdown",
   "id": "608918b8-745a-4ae9-b826-0fa6e4352aa4",
   "metadata": {},
   "source": [
    "- Contact these customers for their `job_title`s and fill the missing information. "
   ]
  },
  {
   "cell_type": "code",
   "execution_count": 83,
   "id": "cd0d0ced-bb8d-4304-adb5-f68aa973486f",
   "metadata": {},
   "outputs": [
    {
     "data": {
      "text/html": [
       "<div>\n",
       "<style scoped>\n",
       "    .dataframe tbody tr th:only-of-type {\n",
       "        vertical-align: middle;\n",
       "    }\n",
       "\n",
       "    .dataframe tbody tr th {\n",
       "        vertical-align: top;\n",
       "    }\n",
       "\n",
       "    .dataframe thead th {\n",
       "        text-align: right;\n",
       "    }\n",
       "</style>\n",
       "<table border=\"1\" class=\"dataframe\">\n",
       "  <thead>\n",
       "    <tr style=\"text-align: right;\">\n",
       "      <th></th>\n",
       "      <th>first_name</th>\n",
       "      <th>last_name</th>\n",
       "      <th>gender</th>\n",
       "      <th>past_3_years_bike_related_purchases</th>\n",
       "      <th>DOB</th>\n",
       "      <th>job_title</th>\n",
       "      <th>job_industry_category</th>\n",
       "      <th>wealth_segment</th>\n",
       "      <th>deceased_indicator</th>\n",
       "      <th>owns_car</th>\n",
       "      <th>...</th>\n",
       "      <th>state</th>\n",
       "      <th>country</th>\n",
       "      <th>property_valuation</th>\n",
       "      <th>Unnamed: 16</th>\n",
       "      <th>Unnamed: 17</th>\n",
       "      <th>Unnamed: 18</th>\n",
       "      <th>Unnamed: 19</th>\n",
       "      <th>Unnamed: 20</th>\n",
       "      <th>Rank</th>\n",
       "      <th>Value</th>\n",
       "    </tr>\n",
       "  </thead>\n",
       "  <tbody>\n",
       "    <tr>\n",
       "      <th>22</th>\n",
       "      <td>Otis</td>\n",
       "      <td>Ottey</td>\n",
       "      <td>Male</td>\n",
       "      <td>26</td>\n",
       "      <td>1998-02-05</td>\n",
       "      <td>Quality Engineer</td>\n",
       "      <td>NaN</td>\n",
       "      <td>Mass Customer</td>\n",
       "      <td>N</td>\n",
       "      <td>No</td>\n",
       "      <td>...</td>\n",
       "      <td>QLD</td>\n",
       "      <td>Australia</td>\n",
       "      <td>4</td>\n",
       "      <td>0.99</td>\n",
       "      <td>0.9900</td>\n",
       "      <td>0.9900</td>\n",
       "      <td>0.8415</td>\n",
       "      <td>23</td>\n",
       "      <td>23</td>\n",
       "      <td>1.5</td>\n",
       "    </tr>\n",
       "    <tr>\n",
       "      <th>23</th>\n",
       "      <td>Tabbatha</td>\n",
       "      <td>Averill</td>\n",
       "      <td>Female</td>\n",
       "      <td>5</td>\n",
       "      <td>1977-12-17</td>\n",
       "      <td>Quality Control Specialist</td>\n",
       "      <td>NaN</td>\n",
       "      <td>Affluent Customer</td>\n",
       "      <td>N</td>\n",
       "      <td>Yes</td>\n",
       "      <td>...</td>\n",
       "      <td>NSW</td>\n",
       "      <td>Australia</td>\n",
       "      <td>8</td>\n",
       "      <td>0.89</td>\n",
       "      <td>1.1125</td>\n",
       "      <td>1.1125</td>\n",
       "      <td>1.1125</td>\n",
       "      <td>23</td>\n",
       "      <td>23</td>\n",
       "      <td>1.5</td>\n",
       "    </tr>\n",
       "  </tbody>\n",
       "</table>\n",
       "<p>2 rows × 23 columns</p>\n",
       "</div>"
      ],
      "text/plain": [
       "   first_name last_name  gender  past_3_years_bike_related_purchases  \\\n",
       "22       Otis     Ottey    Male                                   26   \n",
       "23   Tabbatha   Averill  Female                                    5   \n",
       "\n",
       "          DOB                   job_title job_industry_category  \\\n",
       "22 1998-02-05            Quality Engineer                   NaN   \n",
       "23 1977-12-17  Quality Control Specialist                   NaN   \n",
       "\n",
       "       wealth_segment deceased_indicator owns_car  ...  state    country  \\\n",
       "22      Mass Customer                  N       No  ...    QLD  Australia   \n",
       "23  Affluent Customer                  N      Yes  ...    NSW  Australia   \n",
       "\n",
       "    property_valuation Unnamed: 16 Unnamed: 17  Unnamed: 18  Unnamed: 19  \\\n",
       "22                   4        0.99      0.9900       0.9900       0.8415   \n",
       "23                   8        0.89      1.1125       1.1125       1.1125   \n",
       "\n",
       "    Unnamed: 20  Rank  Value  \n",
       "22           23    23    1.5  \n",
       "23           23    23    1.5  \n",
       "\n",
       "[2 rows x 23 columns]"
      ]
     },
     "execution_count": 83,
     "metadata": {},
     "output_type": "execute_result"
    }
   ],
   "source": [
    "new_customer_list[new_customer_list['job_industry_category'].isna()].head(2)"
   ]
  },
  {
   "cell_type": "markdown",
   "id": "38ddc892-ce4f-4045-bce2-f2570e0aee25",
   "metadata": {},
   "source": [
    "-- Ask these customers to also give information of their job industry."
   ]
  },
  {
   "cell_type": "markdown",
   "id": "33a18b17-c878-47b7-aabc-f01a01c51d73",
   "metadata": {},
   "source": [
    "<div style=\"text-align:center; background-color:#D3D3D3; padding:10px; border-radius:5px;\">\n",
    "    <h2 style=\"color:#000;\">Customer Demographics Data Quality Check</h2>\n",
    "</div>"
   ]
  },
  {
   "cell_type": "markdown",
   "id": "84108b6d-cfa5-41aa-b3cf-5e5b8aa65298",
   "metadata": {},
   "source": [
    "In this section, let us look for possible presence of data discrepancies and inaccuracies in `Customer Demographics` column."
   ]
  },
  {
   "cell_type": "code",
   "execution_count": 85,
   "id": "b7e50410-aa82-42bc-9b68-36ce17805b0f",
   "metadata": {},
   "outputs": [
    {
     "data": {
      "text/html": [
       "<div>\n",
       "<style scoped>\n",
       "    .dataframe tbody tr th:only-of-type {\n",
       "        vertical-align: middle;\n",
       "    }\n",
       "\n",
       "    .dataframe tbody tr th {\n",
       "        vertical-align: top;\n",
       "    }\n",
       "\n",
       "    .dataframe thead th {\n",
       "        text-align: right;\n",
       "    }\n",
       "</style>\n",
       "<table border=\"1\" class=\"dataframe\">\n",
       "  <thead>\n",
       "    <tr style=\"text-align: right;\">\n",
       "      <th></th>\n",
       "      <th>customer_id</th>\n",
       "      <th>first_name</th>\n",
       "      <th>last_name</th>\n",
       "      <th>gender</th>\n",
       "      <th>past_3_years_bike_related_purchases</th>\n",
       "      <th>DOB</th>\n",
       "      <th>job_title</th>\n",
       "      <th>job_industry_category</th>\n",
       "      <th>wealth_segment</th>\n",
       "      <th>deceased_indicator</th>\n",
       "      <th>default</th>\n",
       "      <th>owns_car</th>\n",
       "      <th>tenure</th>\n",
       "    </tr>\n",
       "  </thead>\n",
       "  <tbody>\n",
       "    <tr>\n",
       "      <th>0</th>\n",
       "      <td>1</td>\n",
       "      <td>Laraine</td>\n",
       "      <td>Medendorp</td>\n",
       "      <td>F</td>\n",
       "      <td>93</td>\n",
       "      <td>1953-10-12</td>\n",
       "      <td>Executive Secretary</td>\n",
       "      <td>Health</td>\n",
       "      <td>Mass Customer</td>\n",
       "      <td>N</td>\n",
       "      <td>\"'</td>\n",
       "      <td>Yes</td>\n",
       "      <td>11.0</td>\n",
       "    </tr>\n",
       "    <tr>\n",
       "      <th>1</th>\n",
       "      <td>2</td>\n",
       "      <td>Eli</td>\n",
       "      <td>Bockman</td>\n",
       "      <td>Male</td>\n",
       "      <td>81</td>\n",
       "      <td>1980-12-16</td>\n",
       "      <td>Administrative Officer</td>\n",
       "      <td>Financial Services</td>\n",
       "      <td>Mass Customer</td>\n",
       "      <td>N</td>\n",
       "      <td>&lt;script&gt;alert('hi')&lt;/script&gt;</td>\n",
       "      <td>Yes</td>\n",
       "      <td>16.0</td>\n",
       "    </tr>\n",
       "    <tr>\n",
       "      <th>2</th>\n",
       "      <td>3</td>\n",
       "      <td>Arlin</td>\n",
       "      <td>Dearle</td>\n",
       "      <td>Male</td>\n",
       "      <td>61</td>\n",
       "      <td>1954-01-20</td>\n",
       "      <td>Recruiting Manager</td>\n",
       "      <td>Property</td>\n",
       "      <td>Mass Customer</td>\n",
       "      <td>N</td>\n",
       "      <td>2018-02-01 00:00:00</td>\n",
       "      <td>Yes</td>\n",
       "      <td>15.0</td>\n",
       "    </tr>\n",
       "    <tr>\n",
       "      <th>3</th>\n",
       "      <td>4</td>\n",
       "      <td>Talbot</td>\n",
       "      <td>NaN</td>\n",
       "      <td>Male</td>\n",
       "      <td>33</td>\n",
       "      <td>1961-10-03</td>\n",
       "      <td>NaN</td>\n",
       "      <td>IT</td>\n",
       "      <td>Mass Customer</td>\n",
       "      <td>N</td>\n",
       "      <td>() { _; } &gt;_[$($())] { touch /tmp/blns.shellsh...</td>\n",
       "      <td>No</td>\n",
       "      <td>7.0</td>\n",
       "    </tr>\n",
       "    <tr>\n",
       "      <th>4</th>\n",
       "      <td>5</td>\n",
       "      <td>Sheila-kathryn</td>\n",
       "      <td>Calton</td>\n",
       "      <td>Female</td>\n",
       "      <td>56</td>\n",
       "      <td>1977-05-13</td>\n",
       "      <td>Senior Editor</td>\n",
       "      <td>NaN</td>\n",
       "      <td>Affluent Customer</td>\n",
       "      <td>N</td>\n",
       "      <td>NIL</td>\n",
       "      <td>Yes</td>\n",
       "      <td>8.0</td>\n",
       "    </tr>\n",
       "  </tbody>\n",
       "</table>\n",
       "</div>"
      ],
      "text/plain": [
       "   customer_id      first_name  last_name  gender  \\\n",
       "0            1         Laraine  Medendorp       F   \n",
       "1            2             Eli    Bockman    Male   \n",
       "2            3           Arlin     Dearle    Male   \n",
       "3            4          Talbot        NaN    Male   \n",
       "4            5  Sheila-kathryn     Calton  Female   \n",
       "\n",
       "   past_3_years_bike_related_purchases        DOB               job_title  \\\n",
       "0                                   93 1953-10-12     Executive Secretary   \n",
       "1                                   81 1980-12-16  Administrative Officer   \n",
       "2                                   61 1954-01-20      Recruiting Manager   \n",
       "3                                   33 1961-10-03                     NaN   \n",
       "4                                   56 1977-05-13           Senior Editor   \n",
       "\n",
       "  job_industry_category     wealth_segment deceased_indicator  \\\n",
       "0                Health      Mass Customer                  N   \n",
       "1    Financial Services      Mass Customer                  N   \n",
       "2              Property      Mass Customer                  N   \n",
       "3                    IT      Mass Customer                  N   \n",
       "4                   NaN  Affluent Customer                  N   \n",
       "\n",
       "                                             default owns_car  tenure  \n",
       "0                                                 \"'      Yes    11.0  \n",
       "1                       <script>alert('hi')</script>      Yes    16.0  \n",
       "2                                2018-02-01 00:00:00      Yes    15.0  \n",
       "3  () { _; } >_[$($())] { touch /tmp/blns.shellsh...       No     7.0  \n",
       "4                                                NIL      Yes     8.0  "
      ]
     },
     "execution_count": 85,
     "metadata": {},
     "output_type": "execute_result"
    }
   ],
   "source": [
    "customer_demographic.head()"
   ]
  },
  {
   "cell_type": "code",
   "execution_count": 89,
   "id": "84898da5-a68b-4196-a3d0-d9dd83680419",
   "metadata": {},
   "outputs": [
    {
     "data": {
      "text/plain": [
       "job_industry_category                  16.400\n",
       "job_title                              12.650\n",
       "default                                 7.550\n",
       "last_name                               3.125\n",
       "DOB                                     2.175\n",
       "tenure                                  2.175\n",
       "customer_id                             0.000\n",
       "first_name                              0.000\n",
       "gender                                  0.000\n",
       "past_3_years_bike_related_purchases     0.000\n",
       "wealth_segment                          0.000\n",
       "deceased_indicator                      0.000\n",
       "owns_car                                0.000\n",
       "dtype: float64"
      ]
     },
     "execution_count": 89,
     "metadata": {},
     "output_type": "execute_result"
    }
   ],
   "source": [
    "(customer_demographic.isna().sum()/len(customer_demographic)*100).sort_values(ascending=False)"
   ]
  },
  {
   "cell_type": "code",
   "execution_count": 90,
   "id": "136cf6e0-528a-4002-958f-fccc66dc13dc",
   "metadata": {},
   "outputs": [
    {
     "data": {
      "text/plain": [
       "0"
      ]
     },
     "execution_count": 90,
     "metadata": {},
     "output_type": "execute_result"
    }
   ],
   "source": [
    "customer_demographic.duplicated().sum()"
   ]
  },
  {
   "cell_type": "markdown",
   "id": "a6e8b7ba-6aa8-411a-9c3b-789fdf4af460",
   "metadata": {},
   "source": [
    "- Missing values in `job_industry_category`, `job_title`, `default`, `last_name`, `DOB` and `tenure` columns.\n",
    "- There are no duplicated values in this dataframe.\n",
    "\n",
    "Let us look into each column individually."
   ]
  },
  {
   "cell_type": "code",
   "execution_count": 95,
   "id": "22a9a440-aa98-47f8-8cf0-55c087d474e9",
   "metadata": {},
   "outputs": [
    {
     "data": {
      "text/html": [
       "<div>\n",
       "<style scoped>\n",
       "    .dataframe tbody tr th:only-of-type {\n",
       "        vertical-align: middle;\n",
       "    }\n",
       "\n",
       "    .dataframe tbody tr th {\n",
       "        vertical-align: top;\n",
       "    }\n",
       "\n",
       "    .dataframe thead th {\n",
       "        text-align: right;\n",
       "    }\n",
       "</style>\n",
       "<table border=\"1\" class=\"dataframe\">\n",
       "  <thead>\n",
       "    <tr style=\"text-align: right;\">\n",
       "      <th></th>\n",
       "      <th>customer_id</th>\n",
       "      <th>first_name</th>\n",
       "      <th>last_name</th>\n",
       "      <th>gender</th>\n",
       "      <th>past_3_years_bike_related_purchases</th>\n",
       "      <th>DOB</th>\n",
       "      <th>job_title</th>\n",
       "      <th>job_industry_category</th>\n",
       "      <th>wealth_segment</th>\n",
       "      <th>deceased_indicator</th>\n",
       "      <th>default</th>\n",
       "      <th>owns_car</th>\n",
       "      <th>tenure</th>\n",
       "    </tr>\n",
       "  </thead>\n",
       "  <tbody>\n",
       "    <tr>\n",
       "      <th>4</th>\n",
       "      <td>5</td>\n",
       "      <td>Sheila-kathryn</td>\n",
       "      <td>Calton</td>\n",
       "      <td>Female</td>\n",
       "      <td>56</td>\n",
       "      <td>1977-05-13</td>\n",
       "      <td>Senior Editor</td>\n",
       "      <td>NaN</td>\n",
       "      <td>Affluent Customer</td>\n",
       "      <td>N</td>\n",
       "      <td>NIL</td>\n",
       "      <td>Yes</td>\n",
       "      <td>8.0</td>\n",
       "    </tr>\n",
       "    <tr>\n",
       "      <th>7</th>\n",
       "      <td>8</td>\n",
       "      <td>Rod</td>\n",
       "      <td>Inder</td>\n",
       "      <td>Male</td>\n",
       "      <td>31</td>\n",
       "      <td>1962-03-30</td>\n",
       "      <td>Media Manager I</td>\n",
       "      <td>NaN</td>\n",
       "      <td>Mass Customer</td>\n",
       "      <td>N</td>\n",
       "      <td>(â¯Â°â¡Â°ï¼â¯ï¸µ â»ââ»)</td>\n",
       "      <td>No</td>\n",
       "      <td>7.0</td>\n",
       "    </tr>\n",
       "  </tbody>\n",
       "</table>\n",
       "</div>"
      ],
      "text/plain": [
       "   customer_id      first_name last_name  gender  \\\n",
       "4            5  Sheila-kathryn    Calton  Female   \n",
       "7            8             Rod     Inder    Male   \n",
       "\n",
       "   past_3_years_bike_related_purchases        DOB        job_title  \\\n",
       "4                                   56 1977-05-13    Senior Editor   \n",
       "7                                   31 1962-03-30  Media Manager I   \n",
       "\n",
       "  job_industry_category     wealth_segment deceased_indicator  \\\n",
       "4                   NaN  Affluent Customer                  N   \n",
       "7                   NaN      Mass Customer                  N   \n",
       "\n",
       "                   default owns_car  tenure  \n",
       "4                      NIL      Yes     8.0  \n",
       "7  (â¯Â°â¡Â°ï¼â¯ï¸µ â»ââ»)       No     7.0  "
      ]
     },
     "execution_count": 95,
     "metadata": {},
     "output_type": "execute_result"
    }
   ],
   "source": [
    "customer_demographic[customer_demographic['job_title'].isna()]\n",
    "customer_demographic[customer_demographic['job_industry_category'].isna()].head(2)"
   ]
  },
  {
   "cell_type": "markdown",
   "id": "c263c8a0-77d5-481e-bdce-9cb2e6ac13a8",
   "metadata": {},
   "source": [
    "- Fill the missing values of `last_name`, `job_title` and `job_industry_category` by contacting customers with these missing information.\n",
    "- Drop `default` column as it has values which make no sense or add any value to our data."
   ]
  },
  {
   "cell_type": "code",
   "execution_count": 97,
   "id": "10272e99-2408-4690-b1ed-2a3bea2a7ec8",
   "metadata": {},
   "outputs": [
    {
     "data": {
      "text/plain": [
       "U    87\n",
       "Name: gender, dtype: int64"
      ]
     },
     "execution_count": 97,
     "metadata": {},
     "output_type": "execute_result"
    }
   ],
   "source": [
    "customer_demographic[customer_demographic['DOB'].isna()]['gender'].value_counts()"
   ]
  },
  {
   "cell_type": "code",
   "execution_count": 105,
   "id": "499d4a6c-adbd-45aa-9643-eaed81fd3498",
   "metadata": {},
   "outputs": [
    {
     "data": {
      "text/plain": [
       "U    87\n",
       "Name: gender, dtype: int64"
      ]
     },
     "execution_count": 105,
     "metadata": {},
     "output_type": "execute_result"
    }
   ],
   "source": [
    "customer_demographic[customer_demographic['tenure'].isna()]['gender'].value_counts()"
   ]
  },
  {
   "cell_type": "code",
   "execution_count": 101,
   "id": "dbef1a8f-be90-4f70-b8ee-73ba7dbfdb49",
   "metadata": {},
   "outputs": [
    {
     "name": "stdout",
     "output_type": "stream",
     "text": [
      "Max DOB value: 2002-03-11 00:00:00, Min DOB value: 1843-12-21 00:00:00\n"
     ]
    }
   ],
   "source": [
    "print(f\"Max DOB value: {customer_demographic['DOB'].max()}, Min DOB value: {customer_demographic['DOB'].min()}\")"
   ]
  },
  {
   "cell_type": "markdown",
   "id": "45fd3b11-6de4-4d06-a80b-77fd20c4c71c",
   "metadata": {},
   "source": [
    "- All the customers with missing `DOB` and `tenure` values are from `U` (Unidentified) gender for some reason, it is suggested to contact these customers for their birth date information.\n",
    "- Smallest `DOB` value does not make sense as the age of the customer is 180 years according to it. So, DOB of this customer needs to reconfirmed.\n",
    "- Mention the unit of `tenure` column and specify whether it is year or month."
   ]
  },
  {
   "cell_type": "markdown",
   "id": "05021c3e-166c-426d-ac23-4c82daaac562",
   "metadata": {},
   "source": [
    "<div style=\"text-align:center; background-color:#D2B48C; padding:10px; border-radius:5px;\">\n",
    "    <h2 style=\"color:#000;\">Customer Address Data Quality Check</h2>\n",
    "</div>"
   ]
  },
  {
   "cell_type": "markdown",
   "id": "5e43ac52-9a20-4f51-a3c6-f5eb2f65236c",
   "metadata": {},
   "source": [
    "In this section, let us look for possible presence of data discrepancies and inaccuracies in `Customer Address` column."
   ]
  },
  {
   "cell_type": "code",
   "execution_count": 106,
   "id": "42fa9391-ceea-4a41-b347-73c3f77a01bf",
   "metadata": {},
   "outputs": [
    {
     "data": {
      "text/html": [
       "<div>\n",
       "<style scoped>\n",
       "    .dataframe tbody tr th:only-of-type {\n",
       "        vertical-align: middle;\n",
       "    }\n",
       "\n",
       "    .dataframe tbody tr th {\n",
       "        vertical-align: top;\n",
       "    }\n",
       "\n",
       "    .dataframe thead th {\n",
       "        text-align: right;\n",
       "    }\n",
       "</style>\n",
       "<table border=\"1\" class=\"dataframe\">\n",
       "  <thead>\n",
       "    <tr style=\"text-align: right;\">\n",
       "      <th></th>\n",
       "      <th>customer_id</th>\n",
       "      <th>address</th>\n",
       "      <th>postcode</th>\n",
       "      <th>state</th>\n",
       "      <th>country</th>\n",
       "      <th>property_valuation</th>\n",
       "    </tr>\n",
       "  </thead>\n",
       "  <tbody>\n",
       "    <tr>\n",
       "      <th>0</th>\n",
       "      <td>1</td>\n",
       "      <td>060 Morning Avenue</td>\n",
       "      <td>2016</td>\n",
       "      <td>New South Wales</td>\n",
       "      <td>Australia</td>\n",
       "      <td>10</td>\n",
       "    </tr>\n",
       "    <tr>\n",
       "      <th>1</th>\n",
       "      <td>2</td>\n",
       "      <td>6 Meadow Vale Court</td>\n",
       "      <td>2153</td>\n",
       "      <td>New South Wales</td>\n",
       "      <td>Australia</td>\n",
       "      <td>10</td>\n",
       "    </tr>\n",
       "    <tr>\n",
       "      <th>2</th>\n",
       "      <td>4</td>\n",
       "      <td>0 Holy Cross Court</td>\n",
       "      <td>4211</td>\n",
       "      <td>QLD</td>\n",
       "      <td>Australia</td>\n",
       "      <td>9</td>\n",
       "    </tr>\n",
       "    <tr>\n",
       "      <th>3</th>\n",
       "      <td>5</td>\n",
       "      <td>17979 Del Mar Point</td>\n",
       "      <td>2448</td>\n",
       "      <td>New South Wales</td>\n",
       "      <td>Australia</td>\n",
       "      <td>4</td>\n",
       "    </tr>\n",
       "    <tr>\n",
       "      <th>4</th>\n",
       "      <td>6</td>\n",
       "      <td>9 Oakridge Court</td>\n",
       "      <td>3216</td>\n",
       "      <td>VIC</td>\n",
       "      <td>Australia</td>\n",
       "      <td>9</td>\n",
       "    </tr>\n",
       "  </tbody>\n",
       "</table>\n",
       "</div>"
      ],
      "text/plain": [
       "   customer_id              address  postcode            state    country  \\\n",
       "0            1   060 Morning Avenue      2016  New South Wales  Australia   \n",
       "1            2  6 Meadow Vale Court      2153  New South Wales  Australia   \n",
       "2            4   0 Holy Cross Court      4211              QLD  Australia   \n",
       "3            5  17979 Del Mar Point      2448  New South Wales  Australia   \n",
       "4            6     9 Oakridge Court      3216              VIC  Australia   \n",
       "\n",
       "   property_valuation  \n",
       "0                  10  \n",
       "1                  10  \n",
       "2                   9  \n",
       "3                   4  \n",
       "4                   9  "
      ]
     },
     "execution_count": 106,
     "metadata": {},
     "output_type": "execute_result"
    }
   ],
   "source": [
    "customer_address.head()"
   ]
  },
  {
   "cell_type": "code",
   "execution_count": 107,
   "id": "83f3d7e9-4fc4-4b8e-a311-992ddea21343",
   "metadata": {},
   "outputs": [
    {
     "data": {
      "text/plain": [
       "customer_id           0\n",
       "address               0\n",
       "postcode              0\n",
       "state                 0\n",
       "country               0\n",
       "property_valuation    0\n",
       "dtype: int64"
      ]
     },
     "execution_count": 107,
     "metadata": {},
     "output_type": "execute_result"
    }
   ],
   "source": [
    "customer_address.isna().sum()"
   ]
  },
  {
   "cell_type": "code",
   "execution_count": 108,
   "id": "c7205d08-fefc-4830-86a6-312c4ef5dcbb",
   "metadata": {},
   "outputs": [
    {
     "data": {
      "text/plain": [
       "0"
      ]
     },
     "execution_count": 108,
     "metadata": {},
     "output_type": "execute_result"
    }
   ],
   "source": [
    "customer_address.duplicated().sum()"
   ]
  },
  {
   "cell_type": "markdown",
   "id": "f0e1f712-1598-464f-8deb-3a14cc13e2de",
   "metadata": {},
   "source": [
    "- No missing values and duplicate values in this dataframe."
   ]
  },
  {
   "cell_type": "markdown",
   "id": "00e3dfbc-a7eb-42ba-90cf-340ae3914dfd",
   "metadata": {},
   "source": [
    "- Only suggestion is to mention unit of currency (million, billion or other) of `property_valuation`.\n",
    "\n",
    "Apart from this everything seems fine for this dataframe."
   ]
  },
  {
   "cell_type": "code",
   "execution_count": null,
   "id": "ef18be4e-6223-419a-82b8-b9dfeee57c4f",
   "metadata": {},
   "outputs": [],
   "source": []
  }
 ],
 "metadata": {
  "kernelspec": {
   "display_name": "Python 3 (ipykernel)",
   "language": "python",
   "name": "python3"
  },
  "language_info": {
   "codemirror_mode": {
    "name": "ipython",
    "version": 3
   },
   "file_extension": ".py",
   "mimetype": "text/x-python",
   "name": "python",
   "nbconvert_exporter": "python",
   "pygments_lexer": "ipython3",
   "version": "3.8.15"
  }
 },
 "nbformat": 4,
 "nbformat_minor": 5
}
